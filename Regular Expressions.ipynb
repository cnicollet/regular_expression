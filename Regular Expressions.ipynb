{
 "cells": [
  {
   "cell_type": "code",
   "execution_count": 1,
   "metadata": {},
   "outputs": [],
   "source": [
    "import re"
   ]
  },
  {
   "cell_type": "code",
   "execution_count": 2,
   "metadata": {},
   "outputs": [
    {
     "name": "stdout",
     "output_type": "stream",
     "text": [
      "<_sre.SRE_Match object; span=(3, 4), match='G'>\n",
      "<_sre.SRE_Match object; span=(3, 5), match='GR'>\n",
      "<_sre.SRE_Match object; span=(5, 6), match='e'>\n",
      "<_sre.SRE_Match object; span=(5, 11), match='eeting'>\n",
      "<_sre.SRE_Match object; span=(0, 0), match=''>\n",
      "<_sre.SRE_Match object; span=(0, 0), match=''>\n",
      "<_sre.SRE_Match object; span=(3, 12), match='GReetingS'>\n",
      "<_sre.SRE_Match object; span=(11, 12), match='S'>\n",
      "<_sre.SRE_Match object; span=(4, 6), match='Re'>\n",
      "<_sre.SRE_Match object; span=(3, 11), match='GReeting'>\n",
      "<_sre.SRE_Match object; span=(0, 1), match='1'>\n",
      "<_sre.SRE_Match object; span=(0, 3), match='100'>\n",
      "<_sre.SRE_Match object; span=(0, 3), match='100'>\n",
      "<_sre.SRE_Match object; span=(3, 12), match='GReetingS'>\n",
      "<_sre.SRE_Match object; span=(0, 12), match='100GReetingS'>\n"
     ]
    }
   ],
   "source": [
    "''' Some useful patterns with their matching results '''\n",
    "\n",
    "def match_string(text, pattern):\n",
    "    \n",
    "    # serach for string matching: search will look anywhere in the strings and try to find a match with the pattern. the span indicates the start & end indexes\n",
    "    return re.search(pattern, text)\n",
    "\n",
    "patterns = ['[A-Z]', '[A-Z]+', '[a-z]', '[a-z]+', '[a-z]*', '[a-z]?', '[A-Za-z]+', '[A-Z]$', '[A-Z][a-z]', '[A-Z]+[a-z]+', '\\d', '\\d+', '[0-9]+', '\\D+', '.*']\n",
    "\n",
    "for pattern in patterns:\n",
    "    print(match_string('100GReetingS', pattern))"
   ]
  },
  {
   "cell_type": "code",
   "execution_count": 3,
   "metadata": {},
   "outputs": [],
   "source": [
    "''' Split text into strings (the size of the space differs between strings)'''\n",
    "text = \"\"\"111 PHY    Physics\n",
    "216 MED   Medecine\n",
    "106 ENG   English\"\"\" "
   ]
  },
  {
   "cell_type": "code",
   "execution_count": 4,
   "metadata": {},
   "outputs": [
    {
     "name": "stdout",
     "output_type": "stream",
     "text": [
      "['111', 'PHY', 'Physics', '216', 'MED', 'Medecine', '106', 'ENG', 'English']\n"
     ]
    }
   ],
   "source": [
    "# Using split() at at least one space (one or more '\\s+')\n",
    "print(re.split('\\s+', text))"
   ]
  },
  {
   "cell_type": "code",
   "execution_count": 5,
   "metadata": {},
   "outputs": [
    {
     "name": "stdout",
     "output_type": "stream",
     "text": [
      "['111', 'PHY', 'Physics', '216', 'MED', 'Medecine', '106', 'ENG', 'English']\n"
     ]
    }
   ],
   "source": [
    "# findall() gives the same result as split() by specifying a non white space in this case '\\S+' as we need to get strings\n",
    "print(re.findall('\\S+', text))"
   ]
  },
  {
   "cell_type": "markdown",
   "metadata": {},
   "source": [
    "If we use a particular pattern multiple times, then we should compile a regular expression rather than using re.split several times."
   ]
  },
  {
   "cell_type": "code",
   "execution_count": 6,
   "metadata": {},
   "outputs": [
    {
     "data": {
      "text/plain": [
       "['111', '216', '106']"
      ]
     },
     "execution_count": 6,
     "metadata": {},
     "output_type": "execute_result"
    }
   ],
   "source": [
    "# Find all number in text. d stands for digit, + to match at leat one digit. finall() will return a list of all matches\n",
    "\n",
    "pattern = re.compile('\\d+')\n",
    "pattern.findall(text)"
   ]
  },
  {
   "cell_type": "code",
   "execution_count": 7,
   "metadata": {},
   "outputs": [
    {
     "name": "stdout",
     "output_type": "stream",
     "text": [
      "<_sre.SRE_Match object; span=(0, 3), match='111'>\n",
      "<_sre.SRE_Match object; span=(0, 3), match='111'>\n",
      "<_sre.SRE_Match object; span=(17, 20), match='205'>\n",
      "None\n"
     ]
    }
   ],
   "source": [
    "# re.search will return the start and end indexes of the first matched digit 205, whereas re.match() will return None because it matches at the start of the string\n",
    "text2 = \"\"\"COM    Computers\n",
    "205 MAT   Mathematics 189\"\"\"\n",
    "\n",
    "print(re.search('\\d+', text, flags=re.M))\n",
    "print(re.match('\\d+', text, flags=re.M)) # text starts by 111 ==> re.match will match this 111 at the start\n",
    "\n",
    "print(re.search('\\d+', text2, flags=re.M))\n",
    "print(re.match('\\d+', text2, flags=re.M)) # text2 starts by COM a non digit ==> re.match will return None"
   ]
  },
  {
   "cell_type": "code",
   "execution_count": 8,
   "metadata": {},
   "outputs": [
    {
     "data": {
      "text/plain": [
       "'111 PHY Physics 216 MED Medecine 106 ENG English'"
      ]
     },
     "execution_count": 8,
     "metadata": {},
     "output_type": "execute_result"
    }
   ],
   "source": [
    "''' Substitute a text by another - below, explicitly replace all spaces by just one space including newlines '''\n",
    "re.sub('\\s+', ' ', text)"
   ]
  },
  {
   "cell_type": "code",
   "execution_count": 9,
   "metadata": {},
   "outputs": [
    {
     "name": "stdout",
     "output_type": "stream",
     "text": [
      "111 PHY Physics\n",
      "216 MED Medecine\n",
      "106 ENG English\n"
     ]
    }
   ],
   "source": [
    "''' Remove all space but not newlines (?!\\n) looks for an uppcoming newline and exclude it from a pattern '''\n",
    "print(re.sub('((?!\\n)\\s+)', ' ', text))"
   ]
  },
  {
   "cell_type": "code",
   "execution_count": 10,
   "metadata": {},
   "outputs": [
    {
     "data": {
      "text/plain": [
       "[('111', 'PHY', 'Physics'),\n",
       " ('216', 'MED', 'Medecine'),\n",
       " ('106', 'ENG', 'English')]"
      ]
     },
     "execution_count": 10,
     "metadata": {},
     "output_type": "execute_result"
    }
   ],
   "source": [
    "''' Find all elements for each line '''\n",
    "re.findall('([0-9]+)\\s+([A-Z]{3})\\s+([A-Za-z]+)', text)"
   ]
  },
  {
   "cell_type": "code",
   "execution_count": 11,
   "metadata": {},
   "outputs": [
    {
     "data": {
      "text/plain": [
       "['111', 'PHY', 'Physics', '216', 'MED', 'Medecine', '106', 'ENG', 'English']"
      ]
     },
     "execution_count": 11,
     "metadata": {},
     "output_type": "execute_result"
    }
   ],
   "source": [
    "''' Find a list of all elements(characters or digits) in a text '''\n",
    "re.findall('[A-Za-z0-9]+', text)"
   ]
  },
  {
   "cell_type": "code",
   "execution_count": 12,
   "metadata": {},
   "outputs": [
    {
     "name": "stdout",
     "output_type": "stream",
     "text": [
      "['111', '216', '106']\n",
      "['PHY', 'MED', 'ENG']\n",
      "['Physics', 'Medecine', 'English']\n"
     ]
    }
   ],
   "source": [
    "''' Separate number from codes and specialities '''\n",
    "\n",
    "patterns = ['\\d+', '[A-Z]{3}', '[A-Za-z]{4,}']\n",
    "\n",
    "for pattern in patterns:\n",
    "    print(re.findall(pattern, text))"
   ]
  },
  {
   "cell_type": "code",
   "execution_count": 13,
   "metadata": {},
   "outputs": [
    {
     "name": "stdout",
     "output_type": "stream",
     "text": [
      "['D', 'a', 't', 'a', 's', 'c', 'i', 'e', 'n', 'c', 'e', 'i', 's', 'n', 'i', 'c', 'e', '!', '.']\n",
      "\n",
      "\n",
      "['Dat', 'asc', 'ien', 'cei', 'sni', 'ce!']\n"
     ]
    }
   ],
   "source": [
    "''' Find any character except for a new line '''\n",
    "\n",
    "print(re.findall('.', 'Datascienceisnice!.'))\n",
    "print('\\n')\n",
    "print(re.findall('...', 'Datascienceisnice!.'))"
   ]
  },
  {
   "cell_type": "code",
   "execution_count": 14,
   "metadata": {},
   "outputs": [
    {
     "name": "stdout",
     "output_type": "stream",
     "text": [
      "['.']\n"
     ]
    }
   ],
   "source": [
    "''' Find dots by using backslash before the dot '''\n",
    "print(re.findall('\\.', 'Datascienceisnice!.'))"
   ]
  },
  {
   "cell_type": "code",
   "execution_count": 15,
   "metadata": {},
   "outputs": [
    {
     "data": {
      "text/plain": [
       "['19', '2019']"
      ]
     },
     "execution_count": 15,
     "metadata": {},
     "output_type": "execute_result"
    }
   ],
   "source": [
    "''' Match any digit '''\n",
    "re.findall('\\d+', 'Jan 19, 2019')"
   ]
  },
  {
   "cell_type": "code",
   "execution_count": 16,
   "metadata": {},
   "outputs": [
    {
     "data": {
      "text/plain": [
       "['Jan ', ', ']"
      ]
     },
     "execution_count": 16,
     "metadata": {},
     "output_type": "execute_result"
    }
   ],
   "source": [
    "''' Match anything except digit '''\n",
    "re.findall('\\D+', 'Jan 19, 2019')"
   ]
  },
  {
   "cell_type": "code",
   "execution_count": 17,
   "metadata": {},
   "outputs": [
    {
     "data": {
      "text/plain": [
       "['Jan', '19', '2019']"
      ]
     },
     "execution_count": 17,
     "metadata": {},
     "output_type": "execute_result"
    }
   ],
   "source": [
    "''' Match anything including digits '''\n",
    "re.findall('\\w+', 'Jan 19, 2019')"
   ]
  },
  {
   "cell_type": "code",
   "execution_count": 18,
   "metadata": {},
   "outputs": [
    {
     "data": {
      "text/plain": [
       "[' ', ', ']"
      ]
     },
     "execution_count": 18,
     "metadata": {},
     "output_type": "execute_result"
    }
   ],
   "source": [
    "''' Match anything except a character '''\n",
    "re.findall('\\W+', 'Jan 19, 2019')"
   ]
  },
  {
   "cell_type": "code",
   "execution_count": 19,
   "metadata": {},
   "outputs": [
    {
     "data": {
      "text/plain": [
       "['Jan']"
      ]
     },
     "execution_count": 19,
     "metadata": {},
     "output_type": "execute_result"
    }
   ],
   "source": [
    "''' Match just the month '''\n",
    "re.findall('[A-Za-z]+', 'Jan 19, 2019')"
   ]
  },
  {
   "cell_type": "code",
   "execution_count": 20,
   "metadata": {},
   "outputs": [
    {
     "data": {
      "text/plain": [
       "['Reaaaaaaaal']"
      ]
     },
     "execution_count": 20,
     "metadata": {},
     "output_type": "execute_result"
    }
   ],
   "source": [
    "# Match one or more occurences\n",
    "re.findall('Rea+l', 'This is so Reaaaaaaaal')"
   ]
  },
  {
   "cell_type": "code",
   "execution_count": 21,
   "metadata": {},
   "outputs": [
    {
     "data": {
      "text/plain": [
       "['Reaaaaaaaal']"
      ]
     },
     "execution_count": 21,
     "metadata": {},
     "output_type": "execute_result"
    }
   ],
   "source": [
    "# Match zero or more occurences\n",
    "re.findall('Rea*l', 'This is so Reaaaaaaaal')"
   ]
  },
  {
   "cell_type": "code",
   "execution_count": 22,
   "metadata": {},
   "outputs": [
    {
     "data": {
      "text/plain": [
       "['This']"
      ]
     },
     "execution_count": 22,
     "metadata": {},
     "output_type": "execute_result"
    }
   ],
   "source": [
    "# Match zero or one occurences\n",
    "re.findall('The?is', 'This is so Reaaaaaaaal')"
   ]
  },
  {
   "cell_type": "code",
   "execution_count": 23,
   "metadata": {},
   "outputs": [],
   "source": [
    "emails = \"\"\"zuck26@facebook.com\n",
    "page33@google.com\n",
    "jeff42@amazon.com\"\"\""
   ]
  },
  {
   "cell_type": "code",
   "execution_count": 24,
   "metadata": {},
   "outputs": [
    {
     "data": {
      "text/plain": [
       "[('zuck26', 'facebook', 'com'),\n",
       " ('page33', 'google', 'com'),\n",
       " ('jeff42', 'amazon', 'com')]"
      ]
     },
     "execution_count": 24,
     "metadata": {},
     "output_type": "execute_result"
    }
   ],
   "source": [
    "re.findall('(\\w+)@(\\w*)\\.([a-z]{3})', emails, flags=re.I)"
   ]
  },
  {
   "cell_type": "code",
   "execution_count": 25,
   "metadata": {},
   "outputs": [
    {
     "name": "stdout",
     "output_type": "stream",
     "text": [
      "['Betty', 'bought', 'bit', 'butter', 'But', 'butter', 'bitter', 'bought', 'better', 'butter', 'bitter', 'butter', 'better']\n"
     ]
    }
   ],
   "source": [
    "''' Find all the words starting by b or B '''\n",
    "# Notice that \\b is used as a boundary, asking for any word starting by B(or b by using flags=re.I to ignore cases), followed by the rest of the word\n",
    "text = \"\"\"Betty bought a bit of butter, But the butter was so bitter, So she bought some better butter, To make the bitter butter better.\"\"\" \n",
    "print(re.findall(r'\\bB\\w+', text, flags=re.I))"
   ]
  },
  {
   "cell_type": "code",
   "execution_count": 26,
   "metadata": {},
   "outputs": [
    {
     "name": "stdout",
     "output_type": "stream",
     "text": [
      "A very very irregular sentence\n",
      "A very very irregular sentence\n"
     ]
    }
   ],
   "source": [
    "''' Rewrite the sentence in a correct format '''\n",
    "sentence = \"\"\"A, very   very; irregular_sentence\"\"\"\n",
    "\n",
    "print(' '.join(re.split('[,;_\\s]+', sentence)))\n",
    "print(' '.join(re.findall('[A-Za-z]+', sentence)))"
   ]
  },
  {
   "cell_type": "code",
   "execution_count": 27,
   "metadata": {},
   "outputs": [
    {
     "data": {
      "text/plain": [
       "'Good advice! What I would do differently if I was learning to code today '"
      ]
     },
     "execution_count": 27,
     "metadata": {},
     "output_type": "execute_result"
    }
   ],
   "source": [
    "tweet = '''Good advice! RT @TheNextWeb: What I would do differently if I was learning to code today http://t.co/lbwej0pxOd cc: @garybernhardt #rstats'''\n",
    "tw = re.split('http.+', tweet)\n",
    "tw1 = re.split('@\\w+:', tw[0])\n",
    "tw_final = re.sub('RT ', '', tw1[0]) + tw1[1]\n",
    "tw_final = re.sub('\\s+', ' ', tw_final)\n",
    "tw_final"
   ]
  },
  {
   "cell_type": "code",
   "execution_count": 28,
   "metadata": {},
   "outputs": [
    {
     "data": {
      "text/plain": [
       "'Good advice! What I would do differently if I was learning to code today '"
      ]
     },
     "execution_count": 28,
     "metadata": {},
     "output_type": "execute_result"
    }
   ],
   "source": [
    "tweet1 = re.sub(' RT| cc', '', tweet) # remove RT or cc\n",
    "tweet1 = re.sub('@\\S+:', '', tweet1) # take off @word\n",
    "tweet1 = re.sub('http\\S+\\s*', '', tweet1) # take off url\n",
    "tweet1 = re.sub('#\\w+', '', tweet1) # take off hashtag #word\n",
    "tweet1 = re.sub('@\\S+\\s*', '', tweet1) # take off remaining url\n",
    "re.sub('\\s+', ' ', tweet1) # take off extra space"
   ]
  },
  {
   "cell_type": "code",
   "execution_count": 29,
   "metadata": {},
   "outputs": [
    {
     "data": {
      "text/plain": [
       "['Link Name',\n",
       " 'This is a paragraph! ',\n",
       " 'This is a another paragraph!',\n",
       " 'This is a new sentence, in bold italics.']"
      ]
     },
     "execution_count": 29,
     "metadata": {},
     "output_type": "execute_result"
    }
   ],
   "source": [
    "r = \"\"\"<HTML>\n",
    "<HEAD>\n",
    "<TITLE>Your Title Here</TITLE>\n",
    "</HEAD>\n",
    "\n",
    "<BODY>\n",
    "<HR>\n",
    "<a href=\"http://url.com\">Link Name</a>\n",
    "<H1>This is a Header</H1>\n",
    "<H2>This is a Medium Header</H2>\n",
    "<P>This is a paragraph! </P>\n",
    "<P>This is a another paragraph!</P>\n",
    "<B>This is a new sentence, in bold italics.</B>\n",
    "<HR>\n",
    "</BODY>\n",
    "</HTML>\"\"\"\n",
    "\n",
    "\n",
    "re.findall('<.*?>(.*)</.?>', r)"
   ]
  },
  {
   "cell_type": "code",
   "execution_count": 30,
   "metadata": {},
   "outputs": [],
   "source": [
    "text = \"In persuasive or argumentative speaking, we try to convince others to agree with our facts, believe our claim, share our values, accept our conclusions, buy our product, or adopt our way of thinking, Price says. “One proven approach to convince your audience is cause-and-effect reasoning. It’s a method that helps your listeners see why things have happened or will happen as they do. It shows the inevitable linkage between what happens first and what happens next as a result. Cause-and-effect words make your claims sound objective and rational rather than biased and subjective[1].”\"\n"
   ]
  },
  {
   "cell_type": "code",
   "execution_count": 31,
   "metadata": {},
   "outputs": [
    {
     "name": "stdout",
     "output_type": "stream",
     "text": [
      "['0', '9', '123', '']\n",
      " \n",
      " \n",
      "['In', ' ', 'persuasive', ' ', 'or', ' ', 'argumentative', ' ', 'speaking', ', ', 'we', ' ', 'try', ' ', 'to', ' ', 'convince', ' ', 'others', ' ', 'to', ' ', 'agree', ' ', 'with', ' ', 'our', ' ', 'facts', ', ', 'believe', ' ', 'our', ' ', 'claim', ', ', 'share', ' ', 'our', ' ', 'values', ', ', 'accept', ' ', 'our', ' ', 'conclusions', ', ', 'buy', ' ', 'our', ' ', 'product', ', ', 'or', ' ', 'adopt', ' ', 'our', ' ', 'way', ' ', 'of', ' ', 'thinking', ', ', 'Price', ' ', 'says', '. “', 'One', ' ', 'proven', ' ', 'approach', ' ', 'to', ' ', 'convince', ' ', 'your', ' ', 'audience', ' ', 'is', ' ', 'cause', '-', 'and', '-', 'effect', ' ', 'reasoning', '. ', 'It', '’', 's', ' ', 'a', ' ', 'method', ' ', 'that', ' ', 'helps', ' ', 'your', ' ', 'listeners', ' ', 'see', ' ', 'why', ' ', 'things', ' ', 'have', ' ', 'happened', ' ', 'or', ' ', 'will', ' ', 'happen', ' ', 'as', ' ', 'they', ' ', 'do', '. ', 'It', ' ', 'shows', ' ', 'the', ' ', 'inevitable', ' ', 'linkage', ' ', 'between', ' ', 'what', ' ', 'happens', ' ', 'first', ' ', 'and', ' ', 'what', ' ', 'happens', ' ', 'next', ' ', 'as', ' ', 'a', ' ', 'result', '. ', 'Cause', '-', 'and', '-', 'effect', ' ', 'words', ' ', 'make', ' ', 'your', ' ', 'claims', ' ', 'sound', ' ', 'objective', ' ', 'and', ' ', 'rational', ' ', 'rather', ' ', 'than', ' ', 'biased', ' ', 'and', ' ', 'subjective', '[', '1', '].”', '']\n",
      " \n",
      " \n",
      "['In', 'persuasive', 'or', 'argumentative', 'speaking', 'we', 'try', 'to', 'convince', 'others', 'to', 'agree', 'with', 'our', 'facts', 'believe', 'our', 'claim', 'share', 'our', 'values', 'accept', 'our', 'conclusions', 'buy', 'our', 'product', 'or', 'adopt', 'our', 'way', 'of', 'thinking', 'Price', 'says', 'One', 'proven', 'approach', 'to', 'convince', 'your', 'audience', 'is', 'cause', 'and', 'effect', 'reasoning', 'It', 's', 'a', 'method', 'that', 'helps', 'your', 'listeners', 'see', 'why', 'things', 'have', 'happened', 'or', 'will', 'happen', 'as', 'they', 'do', 'It', 'shows', 'the', 'inevitable', 'linkage', 'between', 'what', 'happens', 'first', 'and', 'what', 'happens', 'next', 'as', 'a', 'result', 'Cause', 'and', 'effect', 'words', 'make', 'your', 'claims', 'sound', 'objective', 'and', 'rational', 'rather', 'than', 'biased', 'and', 'subjective', '1', '']\n",
      " \n",
      " \n",
      "['hahaha', ' ...', '']\n"
     ]
    },
    {
     "name": "stderr",
     "output_type": "stream",
     "text": [
      "/anaconda3/lib/python3.6/re.py:212: FutureWarning: split() requires a non-empty pattern match.\n",
      "  return _compile(pattern, flags).split(string, maxsplit)\n"
     ]
    }
   ],
   "source": [
    "print(re.split(\"[a-z]+\", \"0a9z123U\", flags=re.IGNORECASE))\n",
    "\n",
    "print(' \\n ')\n",
    "print(re.split(r'(\\W+)', text))\n",
    "\n",
    "print(' \\n ')\n",
    "print(re.split(r'\\W+', text))\n",
    "\n",
    "print(' \\n ')\n",
    "print(re.split('(\\W*)', 'hahaha ...'))"
   ]
  },
  {
   "cell_type": "code",
   "execution_count": 32,
   "metadata": {},
   "outputs": [
    {
     "name": "stdout",
     "output_type": "stream",
     "text": [
      "['In', 'persuasive', 'or', 'argumentative', 'speaking', 'we', 'try', 'to', 'convince', 'others', 'to', 'agree', 'with', 'our', 'facts', 'believe', 'our', 'claim', 'share', 'our', 'values', 'accept', 'our', 'conclusions', 'buy', 'our', 'product', 'or', 'adopt', 'our', 'way', 'of', 'thinking', 'Price', 'says', 'One', 'proven', 'approach', 'to', 'convince', 'your', 'audience', 'is', 'cause', 'and', 'effect', 'reasoning', 'It', 's', 'a', 'method', 'that', 'helps', 'your', 'listeners', 'see', 'why', 'things', 'have', 'happened', 'or', 'will', 'happen', 'as', 'they', 'do', 'It', 'shows', 'the', 'inevitable', 'linkage', 'between', 'what', 'happens', 'first', 'and', 'what', 'happens', 'next', 'as', 'a', 'result', 'Cause', 'and', 'effect', 'words', 'make', 'your', 'claims', 'sound', 'objective', 'and', 'rational', 'rather', 'than', 'biased', 'and', 'subjective']\n"
     ]
    }
   ],
   "source": [
    "print(re.findall(r'[a-zA-Z]+', text))"
   ]
  },
  {
   "cell_type": "code",
   "execution_count": 33,
   "metadata": {},
   "outputs": [
    {
     "name": "stdout",
     "output_type": "stream",
     "text": [
      "['1']\n"
     ]
    }
   ],
   "source": [
    "print(re.findall(r'[0-9]+', text))"
   ]
  },
  {
   "cell_type": "code",
   "execution_count": 34,
   "metadata": {},
   "outputs": [
    {
     "data": {
      "text/plain": [
       "['', '23', '489', '']"
      ]
     },
     "execution_count": 34,
     "metadata": {},
     "output_type": "execute_result"
    }
   ],
   "source": [
    "re.split('[a-z]+', 'a23c489Hn', flags=re.IGNORECASE)"
   ]
  },
  {
   "cell_type": "code",
   "execution_count": 35,
   "metadata": {},
   "outputs": [
    {
     "data": {
      "text/plain": [
       "['a', 'c', 'Hn']"
      ]
     },
     "execution_count": 35,
     "metadata": {},
     "output_type": "execute_result"
    }
   ],
   "source": [
    "re.split('[0-9]+', 'a23c489Hn', flags=re.IGNORECASE)"
   ]
  },
  {
   "cell_type": "code",
   "execution_count": 36,
   "metadata": {},
   "outputs": [
    {
     "data": {
      "text/plain": [
       "'Backet & spade'"
      ]
     },
     "execution_count": 36,
     "metadata": {},
     "output_type": "execute_result"
    }
   ],
   "source": [
    "re.sub(r'AND', '&', 'Backet and spade', flags=re.IGNORECASE)"
   ]
  },
  {
   "cell_type": "code",
   "execution_count": 37,
   "metadata": {},
   "outputs": [
    {
     "data": {
      "text/plain": [
       "'Backet&spade'"
      ]
     },
     "execution_count": 37,
     "metadata": {},
     "output_type": "execute_result"
    }
   ],
   "source": [
    "re.sub(r'\\sAND\\s', '&', 'Backet and spade', flags=re.IGNORECASE)"
   ]
  },
  {
   "cell_type": "code",
   "execution_count": 38,
   "metadata": {},
   "outputs": [
    {
     "data": {
      "text/plain": [
       "<_sre.SRE_Match object; span=(1, 2), match='o'>"
      ]
     },
     "execution_count": 38,
     "metadata": {},
     "output_type": "execute_result"
    }
   ],
   "source": [
    "re.search('o', 'you')"
   ]
  },
  {
   "cell_type": "code",
   "execution_count": 39,
   "metadata": {},
   "outputs": [
    {
     "data": {
      "text/plain": [
       "<_sre.SRE_Match object; span=(1, 2), match='o'>"
      ]
     },
     "execution_count": 39,
     "metadata": {},
     "output_type": "execute_result"
    }
   ],
   "source": [
    "pattern = re.compile('o')\n",
    "pattern.match('you', 1)"
   ]
  },
  {
   "cell_type": "code",
   "execution_count": 40,
   "metadata": {},
   "outputs": [],
   "source": [
    "# No exact matching at 0 index\n",
    "pattern.match('you')"
   ]
  },
  {
   "cell_type": "code",
   "execution_count": 41,
   "metadata": {},
   "outputs": [],
   "source": [
    "m = re.match(r'(\\w+)', 'Issac Newton, physist')"
   ]
  },
  {
   "cell_type": "code",
   "execution_count": 42,
   "metadata": {},
   "outputs": [
    {
     "data": {
      "text/plain": [
       "<_sre.SRE_Match object; span=(0, 5), match='Issac'>"
      ]
     },
     "execution_count": 42,
     "metadata": {},
     "output_type": "execute_result"
    }
   ],
   "source": [
    "m"
   ]
  },
  {
   "cell_type": "code",
   "execution_count": 43,
   "metadata": {},
   "outputs": [
    {
     "data": {
      "text/plain": [
       "'Issac'"
      ]
     },
     "execution_count": 43,
     "metadata": {},
     "output_type": "execute_result"
    }
   ],
   "source": [
    "m.group(0)"
   ]
  },
  {
   "cell_type": "code",
   "execution_count": 44,
   "metadata": {},
   "outputs": [],
   "source": [
    "m = re.match(r'(\\w+) (\\w+)', 'Issac Newton, physist')"
   ]
  },
  {
   "cell_type": "code",
   "execution_count": 45,
   "metadata": {},
   "outputs": [
    {
     "data": {
      "text/plain": [
       "<_sre.SRE_Match object; span=(0, 12), match='Issac Newton'>"
      ]
     },
     "execution_count": 45,
     "metadata": {},
     "output_type": "execute_result"
    }
   ],
   "source": [
    "m"
   ]
  },
  {
   "cell_type": "code",
   "execution_count": 46,
   "metadata": {},
   "outputs": [
    {
     "data": {
      "text/plain": [
       "'Issac Newton'"
      ]
     },
     "execution_count": 46,
     "metadata": {},
     "output_type": "execute_result"
    }
   ],
   "source": [
    "m.group(0)"
   ]
  },
  {
   "cell_type": "code",
   "execution_count": 47,
   "metadata": {},
   "outputs": [
    {
     "data": {
      "text/plain": [
       "'Issac'"
      ]
     },
     "execution_count": 47,
     "metadata": {},
     "output_type": "execute_result"
    }
   ],
   "source": [
    "m.group(1)"
   ]
  },
  {
   "cell_type": "code",
   "execution_count": 48,
   "metadata": {},
   "outputs": [
    {
     "data": {
      "text/plain": [
       "'Newton'"
      ]
     },
     "execution_count": 48,
     "metadata": {},
     "output_type": "execute_result"
    }
   ],
   "source": [
    "m.group(2)"
   ]
  },
  {
   "cell_type": "code",
   "execution_count": 49,
   "metadata": {},
   "outputs": [],
   "source": [
    "m = re.match(r'(?P<first_name>\\w+) (?P<last_name>\\w+)', 'Issac Newton, physist')"
   ]
  },
  {
   "cell_type": "code",
   "execution_count": 50,
   "metadata": {},
   "outputs": [
    {
     "data": {
      "text/plain": [
       "('Issac', 'Newton')"
      ]
     },
     "execution_count": 50,
     "metadata": {},
     "output_type": "execute_result"
    }
   ],
   "source": [
    "m.group('first_name', 'last_name')"
   ]
  },
  {
   "cell_type": "code",
   "execution_count": 51,
   "metadata": {},
   "outputs": [
    {
     "data": {
      "text/plain": [
       "'Issac Newton'"
      ]
     },
     "execution_count": 51,
     "metadata": {},
     "output_type": "execute_result"
    }
   ],
   "source": [
    "m[0]"
   ]
  },
  {
   "cell_type": "code",
   "execution_count": 52,
   "metadata": {},
   "outputs": [
    {
     "data": {
      "text/plain": [
       "{'first_name': 'Issac', 'last_name': 'Newton'}"
      ]
     },
     "execution_count": 52,
     "metadata": {},
     "output_type": "execute_result"
    }
   ],
   "source": [
    "m.groupdict()"
   ]
  },
  {
   "cell_type": "code",
   "execution_count": 53,
   "metadata": {},
   "outputs": [
    {
     "name": "stdout",
     "output_type": "stream",
     "text": [
      "<_sre.SRE_Match object; span=(7, 18), match='remove_this'>\n"
     ]
    }
   ],
   "source": [
    "email = \"tony@tiremove_thisger.net\"\n",
    "\n",
    "m = re.search('remove_this', email)\n",
    "print(m)"
   ]
  },
  {
   "cell_type": "code",
   "execution_count": 54,
   "metadata": {},
   "outputs": [
    {
     "data": {
      "text/plain": [
       "'tony@tiger.net'"
      ]
     },
     "execution_count": 54,
     "metadata": {},
     "output_type": "execute_result"
    }
   ],
   "source": [
    "email[:m.start()] + email[m.end():]"
   ]
  },
  {
   "cell_type": "code",
   "execution_count": 55,
   "metadata": {},
   "outputs": [],
   "source": [
    "text = \"\"\"Ross McFluff: 834.345.1254 155 Elm Street\n",
    "...\n",
    "... Ronald Heathmore: 892.345.3428 436 Finley Avenue\n",
    "... Frank Burger: 925.541.7625 662 South Dogwood Way\n",
    "...\n",
    "...\n",
    "... Heather Albrecht: 548.326.4584 919 Park Place\"\"\""
   ]
  },
  {
   "cell_type": "code",
   "execution_count": 56,
   "metadata": {},
   "outputs": [
    {
     "data": {
      "text/plain": [
       "['Ross McFluff: 834.345.1254 155 Elm Street',\n",
       " 'Ronald Heathmore: 892.345.3428 436 Finley Avenue',\n",
       " 'Frank Burger: 925.541.7625 662 South Dogwood Way',\n",
       " 'Heather Albrecht: 548.326.4584 919 Park Place']"
      ]
     },
     "execution_count": 56,
     "metadata": {},
     "output_type": "execute_result"
    }
   ],
   "source": [
    "rows = re.split('\\n+', text)\n",
    "rows"
   ]
  },
  {
   "cell_type": "code",
   "execution_count": 57,
   "metadata": {},
   "outputs": [
    {
     "data": {
      "text/plain": [
       "[['Ross', 'McFluff', '834.345.1254', '155 Elm Street'],\n",
       " ['Ronald', 'Heathmore', '892.345.3428', '436 Finley Avenue'],\n",
       " ['Frank', 'Burger', '925.541.7625', '662 South Dogwood Way'],\n",
       " ['Heather', 'Albrecht', '548.326.4584', '919 Park Place']]"
      ]
     },
     "execution_count": 57,
     "metadata": {},
     "output_type": "execute_result"
    }
   ],
   "source": [
    "m = [re.split(':? ', row, 3) for row in rows]\n",
    "m"
   ]
  },
  {
   "cell_type": "code",
   "execution_count": 58,
   "metadata": {},
   "outputs": [
    {
     "data": {
      "text/plain": [
       "[['Ross', 'McFluff', '834.345.1254', '155', 'Elm Street'],\n",
       " ['Ronald', 'Heathmore', '892.345.3428', '436', 'Finley Avenue'],\n",
       " ['Frank', 'Burger', '925.541.7625', '662', 'South Dogwood Way'],\n",
       " ['Heather', 'Albrecht', '548.326.4584', '919', 'Park Place']]"
      ]
     },
     "execution_count": 58,
     "metadata": {},
     "output_type": "execute_result"
    }
   ],
   "source": [
    "m = [re.split(':? ', row, 4) for row in rows]\n",
    "m"
   ]
  },
  {
   "cell_type": "code",
   "execution_count": 59,
   "metadata": {},
   "outputs": [],
   "source": [
    "text = \"I was slowly driving until another driver hit me on the back. Luckly, I wasn't injured!\""
   ]
  },
  {
   "cell_type": "code",
   "execution_count": 60,
   "metadata": {},
   "outputs": [
    {
     "data": {
      "text/plain": [
       "['slowly', 'Luckly']"
      ]
     },
     "execution_count": 60,
     "metadata": {},
     "output_type": "execute_result"
    }
   ],
   "source": [
    "re.findall(r'\\w+ly', text)"
   ]
  },
  {
   "cell_type": "code",
   "execution_count": 61,
   "metadata": {},
   "outputs": [
    {
     "name": "stdout",
     "output_type": "stream",
     "text": [
      "06-12: slowly\n",
      "62-68: Luckly\n"
     ]
    }
   ],
   "source": [
    "for m in re.finditer(r'\\w+ly', text):\n",
    "    print('%02d-%2d: %s' % (m.start(), m.end(), m.group(0)))"
   ]
  },
  {
   "cell_type": "code",
   "execution_count": 2,
   "metadata": {},
   "outputs": [
    {
     "name": "stdout",
     "output_type": "stream",
     "text": [
      "<_sre.SRE_Match object; span=(0, 12), match='234.345.4566'>\n",
      "<_sre.SRE_Match object; span=(13, 26), match='546--546-9876'>\n",
      "<_sre.SRE_Match object; span=(27, 39), match='546*645*7564'>\n",
      "<_sre.SRE_Match object; span=(40, 52), match='456-987-9000'>\n"
     ]
    }
   ],
   "source": [
    "# finditer find the matches and the location of each match\n",
    "\n",
    "pattern = re.compile(r'\\d{3}[-.*]+\\d{3}[-.*]\\d{4}')\n",
    "\n",
    "text = \"\"\"234.345.4566\n",
    "546--546-9876\n",
    "546*645*7564\n",
    "456-987-9000\"\"\"\n",
    "\n",
    "matches = pattern.finditer(text)\n",
    "for match in matches:\n",
    "    print(match)"
   ]
  },
  {
   "cell_type": "code",
   "execution_count": 3,
   "metadata": {},
   "outputs": [
    {
     "name": "stdout",
     "output_type": "stream",
     "text": [
      "<_sre.SRE_Match object; span=(1, 11), match='Mr. Dupont'>\n",
      "<_sre.SRE_Match object; span=(12, 19), match='Mr John'>\n",
      "<_sre.SRE_Match object; span=(20, 24), match='M. G'>\n",
      "<_sre.SRE_Match object; span=(25, 33), match='Ms Stone'>\n",
      "<_sre.SRE_Match object; span=(34, 44), match='Mrs. Clark'>\n"
     ]
    }
   ],
   "source": [
    "text = \"\"\"\n",
    "Mr. Dupont\n",
    "Mr John\n",
    "M. G\n",
    "Ms Stone\n",
    "Mrs. Clark \"\"\"\n",
    "\n",
    "pattern = re.compile(r'M(|r|s|rs).?\\s[A-Z]\\w*')\n",
    "matches = pattern.finditer(text)\n",
    "\n",
    "for match in matches:\n",
    "    print(match)"
   ]
  },
  {
   "cell_type": "code",
   "execution_count": null,
   "metadata": {},
   "outputs": [],
   "source": [
    "''' Matching emails '''\n",
    "emails = \"\"\"\n",
    "cam.nicol@blogamil.com\n",
    "zaf-123-ed@edumail.com\n",
    "Fany_Stone@university.co.com\n",
    "AndrewClark@univmail@my-mail.uk\"\"\"\n",
    "\n",
    "# The 2 patterns below will match the email addresses\n",
    "pattern = re.compile(r'[A-Za-z0-9.-_]+@[A-Za-z-]+\\.(com|co.com|uk)')\n",
    "pattern2 = re.compile(r'[A-Za-z0-9.-_+]+@[A-Za-z0-9-]+\\.[A-Za-z0-9-.]+')\n",
    "\n",
    "matches = pattern2.finditer(emails)\n",
    "\n",
    "for match in matches:\n",
    "    print(match)"
   ]
  },
  {
   "cell_type": "code",
   "execution_count": null,
   "metadata": {},
   "outputs": [],
   "source": [
    "''' Matching urls '''\n",
    "\n",
    "urls = \"\"\"\n",
    "https://www.google.com\n",
    "http://cam.com\n",
    "https://youtube.com\n",
    "https://www.unicef.org\n",
    "http://www.un.org\n",
    "\"\"\"\n",
    "\n",
    "pattern = re.compile(r'https?://(www\\.)?(\\w+)(\\.\\w+)')\n",
    "\n",
    "matches = pattern.finditer(urls)\n",
    "\n",
    "#for match in matches:\n",
    " #   print(match.group(3))\n",
    "    \n",
    "    \n",
    "# Extract the domain name and the top level domain\n",
    "sub_urls = pattern.sub(r'\\2\\3', urls)\n",
    "\n",
    "print(sub_urls)"
   ]
  }
 ],
 "metadata": {
  "kernelspec": {
   "display_name": "Python 3",
   "language": "python",
   "name": "python3"
  },
  "language_info": {
   "codemirror_mode": {
    "name": "ipython",
    "version": 3
   },
   "file_extension": ".py",
   "mimetype": "text/x-python",
   "name": "python",
   "nbconvert_exporter": "python",
   "pygments_lexer": "ipython3",
   "version": "3.6.8"
  }
 },
 "nbformat": 4,
 "nbformat_minor": 2
}
